{
  "nbformat": 4,
  "nbformat_minor": 0,
  "metadata": {
    "colab": {
      "provenance": [],
      "gpuType": "T4"
    },
    "kernelspec": {
      "name": "python3",
      "display_name": "Python 3"
    },
    "language_info": {
      "name": "python"
    },
    "accelerator": "GPU"
  },
  "cells": [
    {
      "cell_type": "code",
      "source": [
        "from google.colab import drive\n",
        "drive.mount('/content/drive')"
      ],
      "metadata": {
        "colab": {
          "base_uri": "https://localhost:8080/",
          "height": 0
        },
        "id": "u6OrEQNZRayn",
        "outputId": "efe83ccd-a60b-42d5-b97f-77a45c240f8c"
      },
      "execution_count": 1,
      "outputs": [
        {
          "output_type": "stream",
          "name": "stdout",
          "text": [
            "Drive already mounted at /content/drive; to attempt to forcibly remount, call drive.mount(\"/content/drive\", force_remount=True).\n"
          ]
        }
      ]
    },
    {
      "cell_type": "code",
      "source": [
        "import os\n",
        "import cv2\n",
        "import numpy as np\n",
        "from keras.models import Sequential\n",
        "from keras.layers import Dense, Dropout, GlobalAveragePooling2D\n",
        "from tensorflow.keras.preprocessing.image import ImageDataGenerator\n",
        "from keras.callbacks import EarlyStopping, ModelCheckpoint\n",
        "from keras.applications import VGG16\n",
        "from keras.models import Model\n",
        "from keras.optimizers import Adam\n",
        "from sklearn.model_selection import KFold\n",
        "from tensorflow.keras.models import load_model"
      ],
      "metadata": {
        "id": "WRysRG7rWv3_"
      },
      "execution_count": 13,
      "outputs": []
    },
    {
      "cell_type": "code",
      "source": [
        "# Load and Preprocess the Dataset\n",
        "def dataset(defective_dir, non_defective_dir):\n",
        "    images = []\n",
        "    labels = []\n",
        "\n",
        "    # Defective Dataset:\n",
        "    for f_name in os.listdir(defective_dir):\n",
        "        path = os.path.join(defective_dir, f_name)\n",
        "        image = cv2.imread(path, cv2.IMREAD_GRAYSCALE)\n",
        "        if image is not None:\n",
        "            image = cv2.resize(image, (128, 128))  # Resize for consistency\n",
        "            images.append(image)\n",
        "            labels.append(1)\n",
        "\n",
        "    # Non-Defective Dataset:\n",
        "    for f_name in os.listdir(non_defective_dir):\n",
        "        path = os.path.join(non_defective_dir, f_name)\n",
        "        image = cv2.imread(path, cv2.IMREAD_GRAYSCALE)\n",
        "        if image is not None:\n",
        "            image = cv2.resize(image, (128, 128))  # Resize for consistency\n",
        "            images.append(image)\n",
        "            labels.append(0)\n",
        "\n",
        "    return np.array(images), np.array(labels)"
      ],
      "metadata": {
        "id": "ksAtsMCWWy2K"
      },
      "execution_count": 15,
      "outputs": []
    },
    {
      "cell_type": "code",
      "source": [
        "# Data Augmentation\n",
        "def augment_data(images, labels):\n",
        "    datagen = ImageDataGenerator(\n",
        "        rotation_range=30,\n",
        "        width_shift_range=0.2,\n",
        "        height_shift_range=0.2,\n",
        "        shear_range=0.2,\n",
        "        zoom_range=0.2,\n",
        "        horizontal_flip=True,\n",
        "        fill_mode='nearest'\n",
        "    )\n",
        "\n",
        "    augmented_images = []\n",
        "    augmented_labels = []\n",
        "\n",
        "    # The images are already (128, 128, 3), so no need to expand the last dimension again\n",
        "    for image, label in zip(images, labels):\n",
        "        image = np.expand_dims(image, axis=0)  # Add batch dimension to (1, 128, 128, 3)\n",
        "        it = datagen.flow(image, batch_size=1)\n",
        "        for _ in range(5):  # Generate 5 augmented versions of each image\n",
        "            batch = next(it)\n",
        "            augmented_images.append(batch[0].astype(np.uint8))  # Remove the batch dimension\n",
        "            augmented_labels.append(label)\n",
        "\n",
        "    return np.array(augmented_images), np.array(augmented_labels)"
      ],
      "metadata": {
        "id": "KnwqRB2bXHfn"
      },
      "execution_count": 16,
      "outputs": []
    },
    {
      "cell_type": "code",
      "source": [
        "# Create and Train the CNN Model using Transfer Learning and Fine-tuning\n",
        "def create_transfer_model(input_shape):\n",
        "    base_model = VGG16(include_top=False, input_shape=input_shape)\n",
        "    x = base_model.output\n",
        "    x = GlobalAveragePooling2D()(x)\n",
        "    x = Dense(256, activation='relu')(x)\n",
        "    x = Dropout(0.5)(x)\n",
        "    predictions = Dense(1, activation='sigmoid')(x)\n",
        "\n",
        "    model = Model(inputs=base_model.input, outputs=predictions)\n",
        "\n",
        "    for layer in base_model.layers[:-4]:  # Fine-tuning the last 4 layers\n",
        "        layer.trainable = False\n",
        "\n",
        "    model.compile(optimizer=Adam(learning_rate=0.0001), loss='binary_crossentropy', metrics=['accuracy'])\n",
        "    return model"
      ],
      "metadata": {
        "id": "TcIL4SvrXNEM"
      },
      "execution_count": 17,
      "outputs": []
    },
    {
      "cell_type": "code",
      "source": [
        "def main_train(defective_dir, non_defective_dir):\n",
        "    # Load and preprocess dataset\n",
        "    images, labels = dataset(defective_dir, non_defective_dir)\n",
        "\n",
        "    # Normalize images and convert them to RGB format\n",
        "    images = images / 255.0  # Normalize pixel values to [0, 1]\n",
        "    images_rgb = np.repeat(images[..., np.newaxis], 3, axis=-1)  # Convert grayscale to RGB\n",
        "\n",
        "    # Apply data augmentation\n",
        "    augmented_images, augmented_labels = augment_data(images_rgb, labels)\n",
        "\n",
        "    # Combine original and augmented data\n",
        "    images_rgb = np.concatenate([images_rgb, augmented_images])\n",
        "    labels = np.concatenate([labels, augmented_labels])\n",
        "\n",
        "    # K-Fold cross-validation\n",
        "    kfold = KFold(n_splits=5, shuffle=True, random_state=42)\n",
        "    fold_no = 1\n",
        "    for train, test in kfold.split(images_rgb, labels):\n",
        "        print(f'Training fold {fold_no}...')\n",
        "        model = create_transfer_model(images_rgb.shape[1:])\n",
        "\n",
        "        callbacks = [\n",
        "            EarlyStopping(monitor='val_loss', patience=10),\n",
        "            ModelCheckpoint(f'model_fold_{fold_no}.keras', save_best_only=True)\n",
        "        ]\n",
        "\n",
        "        model.fit(images_rgb[train], labels[train], epochs=50, batch_size=16, validation_data=(images_rgb[test], labels[test]), callbacks=callbacks)\n",
        "\n",
        "        loss, accuracy = model.evaluate(images_rgb[test], labels[test])\n",
        "        print(f'Fold {fold_no} - Loss: {loss}, Accuracy: {accuracy}')\n",
        "        fold_no += 1\n",
        "\n",
        "    return model"
      ],
      "metadata": {
        "id": "zLbs4ryBXQyh"
      },
      "execution_count": 18,
      "outputs": []
    },
    {
      "cell_type": "code",
      "source": [
        "# Function to identify cracks\n",
        "def identify_crack(image_path, model_path):\n",
        "    model = load_model(model_path)\n",
        "\n",
        "    image = cv2.imread(image_path, cv2.IMREAD_GRAYSCALE)\n",
        "\n",
        "    if image is not None:\n",
        "        image = cv2.resize(image, (128, 128))  # Resize for consistency\n",
        "        image = np.repeat(image[:, :, np.newaxis], 3, axis=2)  # Convert grayscale to RGB\n",
        "        image = image / 255.0  # Normalize image\n",
        "        image = np.expand_dims(image, axis=0)  # Add batch dimension\n",
        "\n",
        "        prediction = model.predict(image)\n",
        "\n",
        "        print(\"Prediction: \", prediction)\n",
        "        return \"Defective\" if prediction >= 0.5 else \"Non-Defective\"\n",
        "    else:\n",
        "        return 'Image not loaded'"
      ],
      "metadata": {
        "id": "R2KLYz76_9HO"
      },
      "execution_count": 19,
      "outputs": []
    },
    {
      "cell_type": "code",
      "source": [
        "if __name__ == \"__main__\":\n",
        "    # Directories for defective and non-defective images\n",
        "    defective_dir = \"/content/drive/MyDrive/Colab Notebooks/dataset/train/Defective\"\n",
        "    non_defective_dir = \"/content/drive/MyDrive/Colab Notebooks/dataset/train/Non defective\"\n",
        "\n",
        "    model = main_train(defective_dir, non_defective_dir)\n",
        "    model.save('crack_detection_model.keras')"
      ],
      "metadata": {
        "id": "yEah_QQyDxZA",
        "colab": {
          "base_uri": "https://localhost:8080/",
          "height": 0
        },
        "outputId": "24d45be7-8d7e-411d-d662-e4feea43164f"
      },
      "execution_count": 3,
      "outputs": [
        {
          "output_type": "stream",
          "name": "stdout",
          "text": [
            "Training fold 1...\n",
            "Downloading data from https://storage.googleapis.com/tensorflow/keras-applications/vgg16/vgg16_weights_tf_dim_ordering_tf_kernels_notop.h5\n",
            "\u001b[1m58889256/58889256\u001b[0m \u001b[32m━━━━━━━━━━━━━━━━━━━━\u001b[0m\u001b[37m\u001b[0m \u001b[1m0s\u001b[0m 0us/step\n",
            "Epoch 1/50\n",
            "\u001b[1m90/90\u001b[0m \u001b[32m━━━━━━━━━━━━━━━━━━━━\u001b[0m\u001b[37m\u001b[0m \u001b[1m18s\u001b[0m 114ms/step - accuracy: 0.4990 - loss: 0.7338 - val_accuracy: 0.5194 - val_loss: 0.6857\n",
            "Epoch 2/50\n",
            "\u001b[1m90/90\u001b[0m \u001b[32m━━━━━━━━━━━━━━━━━━━━\u001b[0m\u001b[37m\u001b[0m \u001b[1m10s\u001b[0m 58ms/step - accuracy: 0.5476 - loss: 0.6806 - val_accuracy: 0.5361 - val_loss: 0.6759\n",
            "Epoch 3/50\n",
            "\u001b[1m90/90\u001b[0m \u001b[32m━━━━━━━━━━━━━━━━━━━━\u001b[0m\u001b[37m\u001b[0m \u001b[1m5s\u001b[0m 52ms/step - accuracy: 0.5556 - loss: 0.6623 - val_accuracy: 0.5389 - val_loss: 0.6796\n",
            "Epoch 4/50\n",
            "\u001b[1m90/90\u001b[0m \u001b[32m━━━━━━━━━━━━━━━━━━━━\u001b[0m\u001b[37m\u001b[0m \u001b[1m6s\u001b[0m 59ms/step - accuracy: 0.5691 - loss: 0.6338 - val_accuracy: 0.5389 - val_loss: 0.6994\n",
            "Epoch 5/50\n",
            "\u001b[1m90/90\u001b[0m \u001b[32m━━━━━━━━━━━━━━━━━━━━\u001b[0m\u001b[37m\u001b[0m \u001b[1m5s\u001b[0m 60ms/step - accuracy: 0.5742 - loss: 0.6144 - val_accuracy: 0.5278 - val_loss: 0.7260\n",
            "Epoch 6/50\n",
            "\u001b[1m90/90\u001b[0m \u001b[32m━━━━━━━━━━━━━━━━━━━━\u001b[0m\u001b[37m\u001b[0m \u001b[1m5s\u001b[0m 60ms/step - accuracy: 0.5820 - loss: 0.5915 - val_accuracy: 0.5417 - val_loss: 0.7738\n",
            "Epoch 7/50\n",
            "\u001b[1m90/90\u001b[0m \u001b[32m━━━━━━━━━━━━━━━━━━━━\u001b[0m\u001b[37m\u001b[0m \u001b[1m6s\u001b[0m 62ms/step - accuracy: 0.6080 - loss: 0.5708 - val_accuracy: 0.5361 - val_loss: 0.7797\n",
            "Epoch 8/50\n",
            "\u001b[1m90/90\u001b[0m \u001b[32m━━━━━━━━━━━━━━━━━━━━\u001b[0m\u001b[37m\u001b[0m \u001b[1m10s\u001b[0m 61ms/step - accuracy: 0.6308 - loss: 0.5431 - val_accuracy: 0.5306 - val_loss: 0.7625\n",
            "Epoch 9/50\n",
            "\u001b[1m90/90\u001b[0m \u001b[32m━━━━━━━━━━━━━━━━━━━━\u001b[0m\u001b[37m\u001b[0m \u001b[1m10s\u001b[0m 55ms/step - accuracy: 0.5884 - loss: 0.5705 - val_accuracy: 0.5417 - val_loss: 0.7272\n",
            "Epoch 10/50\n",
            "\u001b[1m90/90\u001b[0m \u001b[32m━━━━━━━━━━━━━━━━━━━━\u001b[0m\u001b[37m\u001b[0m \u001b[1m5s\u001b[0m 55ms/step - accuracy: 0.6138 - loss: 0.5467 - val_accuracy: 0.5306 - val_loss: 1.0909\n",
            "Epoch 11/50\n",
            "\u001b[1m90/90\u001b[0m \u001b[32m━━━━━━━━━━━━━━━━━━━━\u001b[0m\u001b[37m\u001b[0m \u001b[1m5s\u001b[0m 55ms/step - accuracy: 0.6101 - loss: 0.5575 - val_accuracy: 0.5389 - val_loss: 1.0062\n",
            "Epoch 12/50\n",
            "\u001b[1m90/90\u001b[0m \u001b[32m━━━━━━━━━━━━━━━━━━━━\u001b[0m\u001b[37m\u001b[0m \u001b[1m5s\u001b[0m 55ms/step - accuracy: 0.5676 - loss: 0.6204 - val_accuracy: 0.5389 - val_loss: 0.8698\n",
            "\u001b[1m12/12\u001b[0m \u001b[32m━━━━━━━━━━━━━━━━━━━━\u001b[0m\u001b[37m\u001b[0m \u001b[1m6s\u001b[0m 55ms/step - accuracy: 0.4331 - loss: 1.0427\n",
            "Fold 1 - Loss: 0.8697509169578552, Accuracy: 0.5388888716697693\n",
            "Training fold 2...\n",
            "Epoch 1/50\n",
            "\u001b[1m90/90\u001b[0m \u001b[32m━━━━━━━━━━━━━━━━━━━━\u001b[0m\u001b[37m\u001b[0m \u001b[1m11s\u001b[0m 89ms/step - accuracy: 0.4814 - loss: 0.7290 - val_accuracy: 0.4972 - val_loss: 0.6908\n",
            "Epoch 2/50\n",
            "\u001b[1m90/90\u001b[0m \u001b[32m━━━━━━━━━━━━━━━━━━━━\u001b[0m\u001b[37m\u001b[0m \u001b[1m6s\u001b[0m 62ms/step - accuracy: 0.5187 - loss: 0.6849 - val_accuracy: 0.5389 - val_loss: 0.6735\n",
            "Epoch 3/50\n",
            "\u001b[1m90/90\u001b[0m \u001b[32m━━━━━━━━━━━━━━━━━━━━\u001b[0m\u001b[37m\u001b[0m \u001b[1m6s\u001b[0m 68ms/step - accuracy: 0.5405 - loss: 0.6704 - val_accuracy: 0.5472 - val_loss: 0.6571\n",
            "Epoch 4/50\n",
            "\u001b[1m90/90\u001b[0m \u001b[32m━━━━━━━━━━━━━━━━━━━━\u001b[0m\u001b[37m\u001b[0m \u001b[1m5s\u001b[0m 57ms/step - accuracy: 0.5517 - loss: 0.6554 - val_accuracy: 0.5417 - val_loss: 0.6618\n",
            "Epoch 5/50\n",
            "\u001b[1m90/90\u001b[0m \u001b[32m━━━━━━━━━━━━━━━━━━━━\u001b[0m\u001b[37m\u001b[0m \u001b[1m11s\u001b[0m 68ms/step - accuracy: 0.5480 - loss: 0.6258 - val_accuracy: 0.5500 - val_loss: 0.6427\n",
            "Epoch 6/50\n",
            "\u001b[1m90/90\u001b[0m \u001b[32m━━━━━━━━━━━━━━━━━━━━\u001b[0m\u001b[37m\u001b[0m \u001b[1m6s\u001b[0m 63ms/step - accuracy: 0.5689 - loss: 0.6176 - val_accuracy: 0.5472 - val_loss: 0.6562\n",
            "Epoch 7/50\n",
            "\u001b[1m90/90\u001b[0m \u001b[32m━━━━━━━━━━━━━━━━━━━━\u001b[0m\u001b[37m\u001b[0m \u001b[1m10s\u001b[0m 63ms/step - accuracy: 0.5720 - loss: 0.6128 - val_accuracy: 0.5444 - val_loss: 0.6588\n",
            "Epoch 8/50\n",
            "\u001b[1m90/90\u001b[0m \u001b[32m━━━━━━━━━━━━━━━━━━━━\u001b[0m\u001b[37m\u001b[0m \u001b[1m10s\u001b[0m 56ms/step - accuracy: 0.5574 - loss: 0.6113 - val_accuracy: 0.5778 - val_loss: 0.6506\n",
            "Epoch 9/50\n",
            "\u001b[1m90/90\u001b[0m \u001b[32m━━━━━━━━━━━━━━━━━━━━\u001b[0m\u001b[37m\u001b[0m \u001b[1m11s\u001b[0m 68ms/step - accuracy: 0.6180 - loss: 0.6034 - val_accuracy: 0.5861 - val_loss: 0.6188\n",
            "Epoch 10/50\n",
            "\u001b[1m90/90\u001b[0m \u001b[32m━━━━━━━━━━━━━━━━━━━━\u001b[0m\u001b[37m\u001b[0m \u001b[1m10s\u001b[0m 63ms/step - accuracy: 0.6203 - loss: 0.5792 - val_accuracy: 0.5694 - val_loss: 0.7034\n",
            "Epoch 11/50\n",
            "\u001b[1m90/90\u001b[0m \u001b[32m━━━━━━━━━━━━━━━━━━━━\u001b[0m\u001b[37m\u001b[0m \u001b[1m10s\u001b[0m 64ms/step - accuracy: 0.6021 - loss: 0.5862 - val_accuracy: 0.5750 - val_loss: 0.6760\n",
            "Epoch 12/50\n",
            "\u001b[1m90/90\u001b[0m \u001b[32m━━━━━━━━━━━━━━━━━━━━\u001b[0m\u001b[37m\u001b[0m \u001b[1m10s\u001b[0m 58ms/step - accuracy: 0.6200 - loss: 0.5824 - val_accuracy: 0.5611 - val_loss: 0.7231\n",
            "Epoch 13/50\n",
            "\u001b[1m90/90\u001b[0m \u001b[32m━━━━━━━━━━━━━━━━━━━━\u001b[0m\u001b[37m\u001b[0m \u001b[1m5s\u001b[0m 58ms/step - accuracy: 0.5874 - loss: 0.5517 - val_accuracy: 0.5750 - val_loss: 0.7445\n",
            "Epoch 14/50\n",
            "\u001b[1m90/90\u001b[0m \u001b[32m━━━━━━━━━━━━━━━━━━━━\u001b[0m\u001b[37m\u001b[0m \u001b[1m10s\u001b[0m 58ms/step - accuracy: 0.5919 - loss: 0.5674 - val_accuracy: 0.5667 - val_loss: 0.7880\n",
            "Epoch 15/50\n",
            "\u001b[1m90/90\u001b[0m \u001b[32m━━━━━━━━━━━━━━━━━━━━\u001b[0m\u001b[37m\u001b[0m \u001b[1m5s\u001b[0m 57ms/step - accuracy: 0.6043 - loss: 0.5692 - val_accuracy: 0.5889 - val_loss: 0.6450\n",
            "Epoch 16/50\n",
            "\u001b[1m90/90\u001b[0m \u001b[32m━━━━━━━━━━━━━━━━━━━━\u001b[0m\u001b[37m\u001b[0m \u001b[1m11s\u001b[0m 63ms/step - accuracy: 0.5711 - loss: 0.5886 - val_accuracy: 0.5778 - val_loss: 0.6580\n",
            "Epoch 17/50\n",
            "\u001b[1m90/90\u001b[0m \u001b[32m━━━━━━━━━━━━━━━━━━━━\u001b[0m\u001b[37m\u001b[0m \u001b[1m10s\u001b[0m 57ms/step - accuracy: 0.6224 - loss: 0.5620 - val_accuracy: 0.5611 - val_loss: 0.8716\n",
            "Epoch 18/50\n",
            "\u001b[1m90/90\u001b[0m \u001b[32m━━━━━━━━━━━━━━━━━━━━\u001b[0m\u001b[37m\u001b[0m \u001b[1m11s\u001b[0m 63ms/step - accuracy: 0.6330 - loss: 0.5516 - val_accuracy: 0.5750 - val_loss: 0.9641\n",
            "Epoch 19/50\n",
            "\u001b[1m90/90\u001b[0m \u001b[32m━━━━━━━━━━━━━━━━━━━━\u001b[0m\u001b[37m\u001b[0m \u001b[1m10s\u001b[0m 57ms/step - accuracy: 0.6060 - loss: 0.5769 - val_accuracy: 0.5750 - val_loss: 0.7776\n",
            "\u001b[1m12/12\u001b[0m \u001b[32m━━━━━━━━━━━━━━━━━━━━\u001b[0m\u001b[37m\u001b[0m \u001b[1m1s\u001b[0m 55ms/step - accuracy: 0.7590 - loss: 0.8238\n",
            "Fold 2 - Loss: 0.7775907516479492, Accuracy: 0.574999988079071\n",
            "Training fold 3...\n",
            "Epoch 1/50\n",
            "\u001b[1m90/90\u001b[0m \u001b[32m━━━━━━━━━━━━━━━━━━━━\u001b[0m\u001b[37m\u001b[0m \u001b[1m11s\u001b[0m 86ms/step - accuracy: 0.5008 - loss: 0.7308 - val_accuracy: 0.5583 - val_loss: 0.6652\n",
            "Epoch 2/50\n",
            "\u001b[1m90/90\u001b[0m \u001b[32m━━━━━━━━━━━━━━━━━━━━\u001b[0m\u001b[37m\u001b[0m \u001b[1m6s\u001b[0m 64ms/step - accuracy: 0.5131 - loss: 0.6904 - val_accuracy: 0.5139 - val_loss: 0.6804\n",
            "Epoch 3/50\n",
            "\u001b[1m90/90\u001b[0m \u001b[32m━━━━━━━━━━━━━━━━━━━━\u001b[0m\u001b[37m\u001b[0m \u001b[1m6s\u001b[0m 63ms/step - accuracy: 0.5448 - loss: 0.6723 - val_accuracy: 0.5333 - val_loss: 0.6742\n",
            "Epoch 4/50\n",
            "\u001b[1m90/90\u001b[0m \u001b[32m━━━━━━━━━━━━━━━━━━━━\u001b[0m\u001b[37m\u001b[0m \u001b[1m6s\u001b[0m 63ms/step - accuracy: 0.5233 - loss: 0.6678 - val_accuracy: 0.5500 - val_loss: 0.6544\n",
            "Epoch 5/50\n",
            "\u001b[1m90/90\u001b[0m \u001b[32m━━━━━━━━━━━━━━━━━━━━\u001b[0m\u001b[37m\u001b[0m \u001b[1m10s\u001b[0m 64ms/step - accuracy: 0.5730 - loss: 0.6498 - val_accuracy: 0.5806 - val_loss: 0.6377\n",
            "Epoch 6/50\n",
            "\u001b[1m90/90\u001b[0m \u001b[32m━━━━━━━━━━━━━━━━━━━━\u001b[0m\u001b[37m\u001b[0m \u001b[1m9s\u001b[0m 56ms/step - accuracy: 0.5913 - loss: 0.6128 - val_accuracy: 0.5806 - val_loss: 0.6387\n",
            "Epoch 7/50\n",
            "\u001b[1m90/90\u001b[0m \u001b[32m━━━━━━━━━━━━━━━━━━━━\u001b[0m\u001b[37m\u001b[0m \u001b[1m6s\u001b[0m 63ms/step - accuracy: 0.5769 - loss: 0.6083 - val_accuracy: 0.5722 - val_loss: 0.6695\n",
            "Epoch 8/50\n",
            "\u001b[1m90/90\u001b[0m \u001b[32m━━━━━━━━━━━━━━━━━━━━\u001b[0m\u001b[37m\u001b[0m \u001b[1m10s\u001b[0m 56ms/step - accuracy: 0.5985 - loss: 0.5899 - val_accuracy: 0.5611 - val_loss: 0.6694\n",
            "Epoch 9/50\n",
            "\u001b[1m90/90\u001b[0m \u001b[32m━━━━━━━━━━━━━━━━━━━━\u001b[0m\u001b[37m\u001b[0m \u001b[1m5s\u001b[0m 56ms/step - accuracy: 0.5826 - loss: 0.5846 - val_accuracy: 0.5667 - val_loss: 0.6501\n",
            "Epoch 10/50\n",
            "\u001b[1m90/90\u001b[0m \u001b[32m━━━━━━━━━━━━━━━━━━━━\u001b[0m\u001b[37m\u001b[0m \u001b[1m5s\u001b[0m 56ms/step - accuracy: 0.5933 - loss: 0.5872 - val_accuracy: 0.5639 - val_loss: 0.6669\n",
            "Epoch 11/50\n",
            "\u001b[1m90/90\u001b[0m \u001b[32m━━━━━━━━━━━━━━━━━━━━\u001b[0m\u001b[37m\u001b[0m \u001b[1m6s\u001b[0m 63ms/step - accuracy: 0.6080 - loss: 0.5865 - val_accuracy: 0.5667 - val_loss: 0.7052\n",
            "Epoch 12/50\n",
            "\u001b[1m90/90\u001b[0m \u001b[32m━━━━━━━━━━━━━━━━━━━━\u001b[0m\u001b[37m\u001b[0m \u001b[1m6s\u001b[0m 63ms/step - accuracy: 0.5861 - loss: 0.5746 - val_accuracy: 0.5694 - val_loss: 0.8052\n",
            "Epoch 13/50\n",
            "\u001b[1m90/90\u001b[0m \u001b[32m━━━━━━━━━━━━━━━━━━━━\u001b[0m\u001b[37m\u001b[0m \u001b[1m5s\u001b[0m 57ms/step - accuracy: 0.6319 - loss: 0.5597 - val_accuracy: 0.5667 - val_loss: 0.8623\n",
            "Epoch 14/50\n",
            "\u001b[1m90/90\u001b[0m \u001b[32m━━━━━━━━━━━━━━━━━━━━\u001b[0m\u001b[37m\u001b[0m \u001b[1m10s\u001b[0m 56ms/step - accuracy: 0.6051 - loss: 0.5598 - val_accuracy: 0.5667 - val_loss: 0.8882\n",
            "Epoch 15/50\n",
            "\u001b[1m90/90\u001b[0m \u001b[32m━━━━━━━━━━━━━━━━━━━━\u001b[0m\u001b[37m\u001b[0m \u001b[1m5s\u001b[0m 56ms/step - accuracy: 0.6291 - loss: 0.5512 - val_accuracy: 0.5667 - val_loss: 1.0495\n",
            "\u001b[1m12/12\u001b[0m \u001b[32m━━━━━━━━━━━━━━━━━━━━\u001b[0m\u001b[37m\u001b[0m \u001b[1m1s\u001b[0m 56ms/step - accuracy: 0.7323 - loss: 1.4829\n",
            "Fold 3 - Loss: 1.049506664276123, Accuracy: 0.5666666626930237\n",
            "Training fold 4...\n",
            "Epoch 1/50\n",
            "\u001b[1m90/90\u001b[0m \u001b[32m━━━━━━━━━━━━━━━━━━━━\u001b[0m\u001b[37m\u001b[0m \u001b[1m10s\u001b[0m 80ms/step - accuracy: 0.4775 - loss: 0.7534 - val_accuracy: 0.4750 - val_loss: 0.7219\n",
            "Epoch 2/50\n",
            "\u001b[1m90/90\u001b[0m \u001b[32m━━━━━━━━━━━━━━━━━━━━\u001b[0m\u001b[37m\u001b[0m \u001b[1m5s\u001b[0m 61ms/step - accuracy: 0.5530 - loss: 0.6686 - val_accuracy: 0.4833 - val_loss: 0.6975\n",
            "Epoch 3/50\n",
            "\u001b[1m90/90\u001b[0m \u001b[32m━━━━━━━━━━━━━━━━━━━━\u001b[0m\u001b[37m\u001b[0m \u001b[1m5s\u001b[0m 57ms/step - accuracy: 0.5383 - loss: 0.6537 - val_accuracy: 0.4750 - val_loss: 0.7667\n",
            "Epoch 4/50\n",
            "\u001b[1m90/90\u001b[0m \u001b[32m━━━━━━━━━━━━━━━━━━━━\u001b[0m\u001b[37m\u001b[0m \u001b[1m11s\u001b[0m 68ms/step - accuracy: 0.5579 - loss: 0.6373 - val_accuracy: 0.5917 - val_loss: 0.6888\n",
            "Epoch 5/50\n",
            "\u001b[1m90/90\u001b[0m \u001b[32m━━━━━━━━━━━━━━━━━━━━\u001b[0m\u001b[37m\u001b[0m \u001b[1m10s\u001b[0m 62ms/step - accuracy: 0.5808 - loss: 0.6034 - val_accuracy: 0.5861 - val_loss: 0.6925\n",
            "Epoch 6/50\n",
            "\u001b[1m90/90\u001b[0m \u001b[32m━━━━━━━━━━━━━━━━━━━━\u001b[0m\u001b[37m\u001b[0m \u001b[1m5s\u001b[0m 57ms/step - accuracy: 0.5966 - loss: 0.5937 - val_accuracy: 0.5889 - val_loss: 0.7114\n",
            "Epoch 7/50\n",
            "\u001b[1m90/90\u001b[0m \u001b[32m━━━━━━━━━━━━━━━━━━━━\u001b[0m\u001b[37m\u001b[0m \u001b[1m6s\u001b[0m 63ms/step - accuracy: 0.5851 - loss: 0.6063 - val_accuracy: 0.4972 - val_loss: 0.7428\n",
            "Epoch 8/50\n",
            "\u001b[1m90/90\u001b[0m \u001b[32m━━━━━━━━━━━━━━━━━━━━\u001b[0m\u001b[37m\u001b[0m \u001b[1m10s\u001b[0m 57ms/step - accuracy: 0.5818 - loss: 0.5769 - val_accuracy: 0.5917 - val_loss: 0.7282\n",
            "Epoch 9/50\n",
            "\u001b[1m90/90\u001b[0m \u001b[32m━━━━━━━━━━━━━━━━━━━━\u001b[0m\u001b[37m\u001b[0m \u001b[1m10s\u001b[0m 57ms/step - accuracy: 0.5959 - loss: 0.5928 - val_accuracy: 0.4889 - val_loss: 0.7442\n",
            "Epoch 10/50\n",
            "\u001b[1m90/90\u001b[0m \u001b[32m━━━━━━━━━━━━━━━━━━━━\u001b[0m\u001b[37m\u001b[0m \u001b[1m6s\u001b[0m 63ms/step - accuracy: 0.5977 - loss: 0.5650 - val_accuracy: 0.5889 - val_loss: 0.9193\n",
            "Epoch 11/50\n",
            "\u001b[1m90/90\u001b[0m \u001b[32m━━━━━━━━━━━━━━━━━━━━\u001b[0m\u001b[37m\u001b[0m \u001b[1m5s\u001b[0m 57ms/step - accuracy: 0.6421 - loss: 0.5494 - val_accuracy: 0.5972 - val_loss: 0.8699\n",
            "Epoch 12/50\n",
            "\u001b[1m90/90\u001b[0m \u001b[32m━━━━━━━━━━━━━━━━━━━━\u001b[0m\u001b[37m\u001b[0m \u001b[1m6s\u001b[0m 63ms/step - accuracy: 0.6331 - loss: 0.5469 - val_accuracy: 0.5889 - val_loss: 0.9841\n",
            "Epoch 13/50\n",
            "\u001b[1m90/90\u001b[0m \u001b[32m━━━━━━━━━━━━━━━━━━━━\u001b[0m\u001b[37m\u001b[0m \u001b[1m5s\u001b[0m 57ms/step - accuracy: 0.6136 - loss: 0.5392 - val_accuracy: 0.5694 - val_loss: 0.7079\n",
            "Epoch 14/50\n",
            "\u001b[1m90/90\u001b[0m \u001b[32m━━━━━━━━━━━━━━━━━━━━\u001b[0m\u001b[37m\u001b[0m \u001b[1m5s\u001b[0m 57ms/step - accuracy: 0.5607 - loss: 0.6207 - val_accuracy: 0.4917 - val_loss: 0.6966\n",
            "\u001b[1m12/12\u001b[0m \u001b[32m━━━━━━━━━━━━━━━━━━━━\u001b[0m\u001b[37m\u001b[0m \u001b[1m1s\u001b[0m 55ms/step - accuracy: 0.3938 - loss: 0.6536\n",
            "Fold 4 - Loss: 0.6965824961662292, Accuracy: 0.49166667461395264\n",
            "Training fold 5...\n",
            "Epoch 1/50\n",
            "\u001b[1m90/90\u001b[0m \u001b[32m━━━━━━━━━━━━━━━━━━━━\u001b[0m\u001b[37m\u001b[0m \u001b[1m11s\u001b[0m 88ms/step - accuracy: 0.5322 - loss: 0.7171 - val_accuracy: 0.5722 - val_loss: 0.6715\n",
            "Epoch 2/50\n",
            "\u001b[1m90/90\u001b[0m \u001b[32m━━━━━━━━━━━━━━━━━━━━\u001b[0m\u001b[37m\u001b[0m \u001b[1m5s\u001b[0m 56ms/step - accuracy: 0.5108 - loss: 0.6800 - val_accuracy: 0.4944 - val_loss: 0.6769\n",
            "Epoch 3/50\n",
            "\u001b[1m90/90\u001b[0m \u001b[32m━━━━━━━━━━━━━━━━━━━━\u001b[0m\u001b[37m\u001b[0m \u001b[1m6s\u001b[0m 63ms/step - accuracy: 0.5701 - loss: 0.6524 - val_accuracy: 0.5306 - val_loss: 0.6805\n",
            "Epoch 4/50\n",
            "\u001b[1m90/90\u001b[0m \u001b[32m━━━━━━━━━━━━━━━━━━━━\u001b[0m\u001b[37m\u001b[0m \u001b[1m10s\u001b[0m 62ms/step - accuracy: 0.5760 - loss: 0.6345 - val_accuracy: 0.5361 - val_loss: 0.7118\n",
            "Epoch 5/50\n",
            "\u001b[1m90/90\u001b[0m \u001b[32m━━━━━━━━━━━━━━━━━━━━\u001b[0m\u001b[37m\u001b[0m \u001b[1m5s\u001b[0m 57ms/step - accuracy: 0.5666 - loss: 0.6181 - val_accuracy: 0.5611 - val_loss: 0.6740\n",
            "Epoch 6/50\n",
            "\u001b[1m90/90\u001b[0m \u001b[32m━━━━━━━━━━━━━━━━━━━━\u001b[0m\u001b[37m\u001b[0m \u001b[1m6s\u001b[0m 63ms/step - accuracy: 0.6027 - loss: 0.5897 - val_accuracy: 0.5361 - val_loss: 0.6783\n",
            "Epoch 7/50\n",
            "\u001b[1m90/90\u001b[0m \u001b[32m━━━━━━━━━━━━━━━━━━━━\u001b[0m\u001b[37m\u001b[0m \u001b[1m11s\u001b[0m 68ms/step - accuracy: 0.5922 - loss: 0.5867 - val_accuracy: 0.5750 - val_loss: 0.6502\n",
            "Epoch 8/50\n",
            "\u001b[1m90/90\u001b[0m \u001b[32m━━━━━━━━━━━━━━━━━━━━\u001b[0m\u001b[37m\u001b[0m \u001b[1m9s\u001b[0m 57ms/step - accuracy: 0.5981 - loss: 0.5912 - val_accuracy: 0.5472 - val_loss: 0.6558\n",
            "Epoch 9/50\n",
            "\u001b[1m90/90\u001b[0m \u001b[32m━━━━━━━━━━━━━━━━━━━━\u001b[0m\u001b[37m\u001b[0m \u001b[1m5s\u001b[0m 56ms/step - accuracy: 0.6190 - loss: 0.5649 - val_accuracy: 0.5611 - val_loss: 0.7939\n",
            "Epoch 10/50\n",
            "\u001b[1m90/90\u001b[0m \u001b[32m━━━━━━━━━━━━━━━━━━━━\u001b[0m\u001b[37m\u001b[0m \u001b[1m5s\u001b[0m 57ms/step - accuracy: 0.5808 - loss: 0.5798 - val_accuracy: 0.5556 - val_loss: 0.7330\n",
            "Epoch 11/50\n",
            "\u001b[1m90/90\u001b[0m \u001b[32m━━━━━━━━━━━━━━━━━━━━\u001b[0m\u001b[37m\u001b[0m \u001b[1m10s\u001b[0m 57ms/step - accuracy: 0.6016 - loss: 0.5563 - val_accuracy: 0.5444 - val_loss: 0.7911\n",
            "Epoch 12/50\n",
            "\u001b[1m90/90\u001b[0m \u001b[32m━━━━━━━━━━━━━━━━━━━━\u001b[0m\u001b[37m\u001b[0m \u001b[1m10s\u001b[0m 57ms/step - accuracy: 0.6034 - loss: 0.5528 - val_accuracy: 0.5472 - val_loss: 0.7549\n",
            "Epoch 13/50\n",
            "\u001b[1m90/90\u001b[0m \u001b[32m━━━━━━━━━━━━━━━━━━━━\u001b[0m\u001b[37m\u001b[0m \u001b[1m10s\u001b[0m 57ms/step - accuracy: 0.6118 - loss: 0.5518 - val_accuracy: 0.5361 - val_loss: 0.7129\n",
            "Epoch 14/50\n",
            "\u001b[1m90/90\u001b[0m \u001b[32m━━━━━━━━━━━━━━━━━━━━\u001b[0m\u001b[37m\u001b[0m \u001b[1m6s\u001b[0m 63ms/step - accuracy: 0.6139 - loss: 0.5532 - val_accuracy: 0.5472 - val_loss: 0.8294\n",
            "Epoch 15/50\n",
            "\u001b[1m90/90\u001b[0m \u001b[32m━━━━━━━━━━━━━━━━━━━━\u001b[0m\u001b[37m\u001b[0m \u001b[1m10s\u001b[0m 57ms/step - accuracy: 0.6301 - loss: 0.5370 - val_accuracy: 0.5472 - val_loss: 0.8701\n",
            "Epoch 16/50\n",
            "\u001b[1m90/90\u001b[0m \u001b[32m━━━━━━━━━━━━━━━━━━━━\u001b[0m\u001b[37m\u001b[0m \u001b[1m5s\u001b[0m 57ms/step - accuracy: 0.6199 - loss: 0.5377 - val_accuracy: 0.5500 - val_loss: 0.9173\n",
            "Epoch 17/50\n",
            "\u001b[1m90/90\u001b[0m \u001b[32m━━━━━━━━━━━━━━━━━━━━\u001b[0m\u001b[37m\u001b[0m \u001b[1m5s\u001b[0m 57ms/step - accuracy: 0.6294 - loss: 0.5400 - val_accuracy: 0.5472 - val_loss: 0.9285\n",
            "\u001b[1m12/12\u001b[0m \u001b[32m━━━━━━━━━━━━━━━━━━━━\u001b[0m\u001b[37m\u001b[0m \u001b[1m1s\u001b[0m 56ms/step - accuracy: 0.7130 - loss: 1.2937\n",
            "Fold 5 - Loss: 0.9284965395927429, Accuracy: 0.5472221970558167\n"
          ]
        }
      ]
    },
    {
      "cell_type": "code",
      "source": [
        "test_image_path = \"/content/drive/MyDrive/Colab Notebooks/dataset/test/Non defective/IMG_20201114_101907.jpg\" # Non-Defective\n",
        "result = identify_crack(test_image_path, 'crack_detection_model.keras')\n",
        "print(result)"
      ],
      "metadata": {
        "id": "4RaIgT9uEgbp",
        "colab": {
          "base_uri": "https://localhost:8080/",
          "height": 0
        },
        "outputId": "15e635b9-fc74-467d-f901-c0bbe4d56362"
      },
      "execution_count": 4,
      "outputs": [
        {
          "output_type": "stream",
          "name": "stdout",
          "text": [
            "\u001b[1m1/1\u001b[0m \u001b[32m━━━━━━━━━━━━━━━━━━━━\u001b[0m\u001b[37m\u001b[0m \u001b[1m2s\u001b[0m 2s/step\n",
            "Prediction:  [[0.00109123]]\n",
            "Non-Defective\n"
          ]
        }
      ]
    },
    {
      "cell_type": "code",
      "source": [
        "test_image_path = \"/content/drive/MyDrive/Colab Notebooks/dataset/valid/Defective/IMG_20201114_102159.jpg\" # Defective\n",
        "result = identify_crack(test_image_path, 'crack_detection_model.keras')\n",
        "print(result)"
      ],
      "metadata": {
        "id": "wAsNgoPrFDF-",
        "colab": {
          "base_uri": "https://localhost:8080/",
          "height": 0
        },
        "outputId": "d9e8641a-d0f8-47ff-fcc8-596578608cd4"
      },
      "execution_count": 5,
      "outputs": [
        {
          "output_type": "stream",
          "name": "stdout",
          "text": [
            "\u001b[1m1/1\u001b[0m \u001b[32m━━━━━━━━━━━━━━━━━━━━\u001b[0m\u001b[37m\u001b[0m \u001b[1m0s\u001b[0m 478ms/step\n",
            "Prediction:  [[0.9996947]]\n",
            "Defective\n"
          ]
        }
      ]
    },
    {
      "cell_type": "code",
      "source": [
        "valid_image_path = \"/content/drive/MyDrive/Colab Notebooks/dataset/valid/Defective/IMG_20201114_102417.jpg\" # Defective\n",
        "result = identify_crack(valid_image_path, 'crack_detection_model.keras')\n",
        "print(result)"
      ],
      "metadata": {
        "id": "-QvB-r_NMzlO",
        "colab": {
          "base_uri": "https://localhost:8080/",
          "height": 0
        },
        "outputId": "1580eff8-2657-4d34-a2f8-f887fd57c968"
      },
      "execution_count": 12,
      "outputs": [
        {
          "output_type": "stream",
          "name": "stdout",
          "text": [
            "\u001b[1m1/1\u001b[0m \u001b[32m━━━━━━━━━━━━━━━━━━━━\u001b[0m\u001b[37m\u001b[0m \u001b[1m0s\u001b[0m 485ms/step\n",
            "Prediction:  [[0.9445605]]\n",
            "Defective\n"
          ]
        }
      ]
    },
    {
      "cell_type": "code",
      "source": [
        "valid_image_path = \"/content/drive/MyDrive/Colab Notebooks/dataset/valid/Non defective/IMG_20201114_100431.jpg\" # Non-Defective\n",
        "result = identify_crack(valid_image_path, 'crack_detection_model.keras')\n",
        "print(result)"
      ],
      "metadata": {
        "colab": {
          "base_uri": "https://localhost:8080/",
          "height": 0
        },
        "id": "kGmJ1d-LWU-w",
        "outputId": "fb654101-28aa-4675-d5fc-d45a7f230274"
      },
      "execution_count": 10,
      "outputs": [
        {
          "output_type": "stream",
          "name": "stderr",
          "text": [
            "WARNING:tensorflow:6 out of the last 6 calls to <function TensorFlowTrainer.make_predict_function.<locals>.one_step_on_data_distributed at 0x79c21c55a520> triggered tf.function retracing. Tracing is expensive and the excessive number of tracings could be due to (1) creating @tf.function repeatedly in a loop, (2) passing tensors with different shapes, (3) passing Python objects instead of tensors. For (1), please define your @tf.function outside of the loop. For (2), @tf.function has reduce_retracing=True option that can avoid unnecessary retracing. For (3), please refer to https://www.tensorflow.org/guide/function#controlling_retracing and https://www.tensorflow.org/api_docs/python/tf/function for  more details.\n"
          ]
        },
        {
          "output_type": "stream",
          "name": "stdout",
          "text": [
            "\u001b[1m1/1\u001b[0m \u001b[32m━━━━━━━━━━━━━━━━━━━━\u001b[0m\u001b[37m\u001b[0m \u001b[1m0s\u001b[0m 485ms/step\n",
            "Prediction:  [[1.393427e-07]]\n",
            "Non-Defective\n"
          ]
        }
      ]
    },
    {
      "cell_type": "code",
      "source": [],
      "metadata": {
        "id": "ESPvGCVeWkp3"
      },
      "execution_count": null,
      "outputs": []
    }
  ]
}